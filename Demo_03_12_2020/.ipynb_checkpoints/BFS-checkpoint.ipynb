{
 "cells": [
  {
   "cell_type": "code",
   "execution_count": 1,
   "metadata": {},
   "outputs": [],
   "source": [
    "from ipywidgets import interactive\n",
    "from IPython.display import display\n",
    "import ipywidgets as widgets\n",
    "from IPython.display import Image"
   ]
  },
  {
   "cell_type": "markdown",
   "metadata": {},
   "source": [
    "## Missionaries and cannibals problem"
   ]
  },
  {
   "cell_type": "code",
   "execution_count": 2,
   "metadata": {},
   "outputs": [],
   "source": [
    "# Image(filename = \"mc.jpg\", width = 500, height = 300)"
   ]
  },
  {
   "cell_type": "markdown",
   "metadata": {},
   "source": [
    "### Search Algorithm: Breadth-first Search"
   ]
  },
  {
   "cell_type": "code",
   "execution_count": 3,
   "metadata": {},
   "outputs": [],
   "source": [
    "class Queue:\n",
    "    \n",
    "    def __init__(self):\n",
    "        self.queue = []\n",
    "    \n",
    "    def enqueue(self, node):\n",
    "        self.queue.append(node)\n",
    "        \n",
    "    def dequeue(self):\n",
    "        if not self.empty():\n",
    "            return self.queue.pop(0)\n",
    "        else:\n",
    "            raise Exception(\"Queue Empty!\")\n",
    "            \n",
    "    def empty(self):\n",
    "        return len(self.queue) == 0\n",
    "    \n",
    "    def contains_state(self, state):\n",
    "        return any(node.state == state for node in self.queue)\n",
    "    \n",
    "    def __str__(self):\n",
    "        result = f\"Number of items in queue = {len(self.queue)}\\n\"\n",
    "        for item in self.queue:\n",
    "            result += f\"{item}\\n\"\n",
    "        return result    "
   ]
  },
  {
   "cell_type": "code",
   "execution_count": 4,
   "metadata": {},
   "outputs": [],
   "source": [
    "class Node:\n",
    "    def __init__(self, state, parent, action, depth):\n",
    "        self.state = state\n",
    "        self.parent = parent\n",
    "        self.action = action\n",
    "        self.depth = depth\n",
    "    \n",
    "    def repeated_state(self):\n",
    "        if self.parent == None or self.parent.parent == None: \n",
    "            return False\n",
    "        if self.parent.parent.state.equals(self.state): \n",
    "            return True\n",
    "        return False\n",
    "    \n",
    "    def __str__(self):\n",
    "        result = f\"{self.state}\"\n",
    "        result += f\" {self.depth}\"\n",
    "        if self.parent != None:\n",
    "            result += f\" {self.parent.state}\"\n",
    "            result += f\" {self.action}\"\n",
    "        return result  "
   ]
  },
  {
   "cell_type": "code",
   "execution_count": 5,
   "metadata": {},
   "outputs": [],
   "source": [
    "class Search:\n",
    "    \n",
    "    # Breadth-first Search\n",
    "    \n",
    "    def __init__(self, start_state, goal_state):\n",
    "\n",
    "        self.start_state = start_state\n",
    "        self.goal_state = goal_state\n",
    "            \n",
    "    def find_solution(self):\n",
    "        \n",
    "        # Initialize fringe\n",
    "        start_node = Node(self.start_state, None, None, 0)\n",
    "        fringe = Queue()\n",
    "        fringe.enqueue(start_node)\n",
    "        \n",
    "        # Initialize an empty explored set\n",
    "        self.explored = set()\n",
    "        \n",
    "        while not fringe.empty():\n",
    "            \n",
    "            # Choose a node from the fringe\n",
    "            current_node = fringe.dequeue()\n",
    "            \n",
    "            # If the chosen node is the goal, then we have a solution\n",
    "            if self.goal_state.equals(current_node.state):\n",
    "                return current_node\n",
    "\n",
    "            # Mark node as explored\n",
    "            self.explored.add(current_node.state)\n",
    "            \n",
    "            # Add possible successors to the fringe\n",
    "            successors = current_node.state.find_successors()\n",
    "            for state, action in successors:   \n",
    "                if not fringe.contains_state(state) and state not in self.explored and not state.illegal():\n",
    "                    n = Node(state,\n",
    "                             current_node,\n",
    "                             action,\n",
    "                             current_node.depth+1)\n",
    "                    if n.repeated_state():\n",
    "                        del(n)\n",
    "                    else:\n",
    "                        fringe.enqueue(n)\n",
    "            #print(fringe)\n",
    "        return None\n",
    "    \n",
    "    def build_path(self, node):\n",
    "        result = []\n",
    "        while node:\n",
    "            result.insert(0, node)\n",
    "            node = node.parent\n",
    "        return result\n",
    "    \n",
    "    def show_path(self, node):\n",
    "        step = 1\n",
    "        path = self.build_path(node)        \n",
    "        for current_node in path:\n",
    "            if current_node.action:\n",
    "                print(f\"Step {current_node.depth}: {current_node.action}\")\n",
    "            #print(current_node.state)\n",
    "        #print(f\"\\nNumber of steps = {current_node.depth}\")\n",
    "    \n",
    "    def solve(self):\n",
    "        if (self.start_state.m_count != 0 and self.start_state.m_count >= self.start_state.c_count) or self.start_state.m_count==0:\n",
    "            solution = self.find_solution()\n",
    "            if solution == None:\n",
    "                print(\"Search failed :/\")\n",
    "            else:\n",
    "                print(\"Search completed :)\")\n",
    "                print(\"\\nSolution:\\n\")\n",
    "                self.show_path(solution)\n",
    "        else:\n",
    "            print(\"Invalid Selection!!\")\n",
    "            print(\"Remember that the number of cannibals cannot be greater than the number of missionaries :/\")\n",
    "        "
   ]
  },
  {
   "cell_type": "code",
   "execution_count": 6,
   "metadata": {},
   "outputs": [],
   "source": [
    "class MCB_State:\n",
    "    \n",
    "    \"\"\"\n",
    "    (#m, #c, #b)\n",
    "    \"\"\"\n",
    "\n",
    "    def __init__(self, m_count, c_count, b_count):\n",
    "        self.m_count = m_count\n",
    "        self.c_count = c_count\n",
    "        self.b_count = b_count\n",
    "       \n",
    "    def __str__(self):    \n",
    "        return f\"({self.m_count}, {self.c_count}, {self.b_count})\"\n",
    "    \n",
    "    def equals(self, state):\n",
    "        return (self.m_count == state.m_count and \n",
    "                self.c_count == state.c_count and \n",
    "                self.b_count == state.b_count)\n",
    "\n",
    "    def illegal(self):\n",
    "        global max_cannibals\n",
    "        global max_missionaries\n",
    "        if (self.m_count >= 0 \n",
    "        and (max_missionaries - self.m_count) >= 0\n",
    "        and self.c_count >= 0\n",
    "        and (max_cannibals - self.c_count) >= 0):\n",
    "            if self.m_count in [0, max_missionaries] or self.m_count == self.c_count:\n",
    "                return False\n",
    "            if self.m_count > self.c_count and (max_missionaries - self.m_count) > (max_cannibals - self.c_count):\n",
    "                return False\n",
    "        return True\n",
    "    \n",
    "    # There are five possible actions:\n",
    "    # 1. Boat takes 1 missionary across river\n",
    "    def take_1m(self):\n",
    "        if self.b_count == 1:\n",
    "            return MCB_State(self.m_count - 1, self.c_count, 0)\n",
    "        return MCB_State(self.m_count + 1, self.c_count, 1)\n",
    "    \n",
    "    # 2. Boat takes 1 cannibal across the river\n",
    "    def take_1c(self):\n",
    "        if self.b_count == 1:\n",
    "            return MCB_State(self.m_count, self.c_count - 1, 0)\n",
    "        return MCB_State(self.m_count, self.c_count + 1, 1)\n",
    "    \n",
    "    # 3. Boat takes 2 missionaries across the river\n",
    "    def take_2m(self):\n",
    "        if self.b_count == 1:\n",
    "            return MCB_State(self.m_count - 2, self.c_count, 0)\n",
    "        return MCB_State(self.m_count + 2, self.c_count, 1)\n",
    "    \n",
    "    # 4. Boat takes 2 cannibals across the river\n",
    "    def take_2c(self):\n",
    "        if self.b_count == 1:\n",
    "            return MCB_State(self.m_count, self.c_count - 2, 0)\n",
    "        return MCB_State(self.m_count, self.c_count + 2, 1)\n",
    "    \n",
    "    # 5. Boat takes 1 missionary and 1 cannibal across the river\n",
    "    def take_1m_1c(self):\n",
    "        if self.b_count == 1:\n",
    "            return MCB_State(self.m_count - 1, self.c_count - 1, 0)\n",
    "        return MCB_State(self.m_count + 1, self.c_count + 1, 1)\n",
    "        \n",
    "    def find_successors(self):\n",
    "        return [(self.take_1m(), \"Boat takes 1 missionary across the river\"), \n",
    "                (self.take_1c(), \"Boat takes 1 cannibal across the river\"),\n",
    "                (self.take_2m(), \"Boat takes 2 missionaries across the river\"), \n",
    "                (self.take_2c(), \"Boat takes 2 cannibals across the river\"),\n",
    "                (self.take_1m_1c(), \"Boat takes 1 missionary and 1 cannibal across the river\")]\n",
    "    \n"
   ]
  },
  {
   "cell_type": "code",
   "execution_count": 7,
   "metadata": {},
   "outputs": [],
   "source": [
    "max_cannibals = 0\n",
    "max_missionaries = 0\n",
    "count = 0"
   ]
  },
  {
   "cell_type": "code",
   "execution_count": 8,
   "metadata": {},
   "outputs": [],
   "source": [
    "\n",
    "def f(missionaries, cannibals):\n",
    "    global count\n",
    "    print(f\"Test: {count}\")\n",
    "    count = count + 1\n",
    "    boats=1\n",
    "    global max_cannibals\n",
    "    global max_missionaries\n",
    "    max_cannibals = cannibals\n",
    "    max_missionaries = missionaries\n",
    "    if (missionaries > 0 and cannibals > 0) or (missionaries > 0 and cannibals == 0) or (missionaries == 0 and cannibals > 0):\n",
    "        s = Search(MCB_State(missionaries, cannibals, boats), MCB_State(0,0,0))\n",
    "        s.solve()\n",
    "    else:\n",
    "        print(\"Please use the sliders to choose the number of missionaries and cannibals\")"
   ]
  },
  {
   "cell_type": "code",
   "execution_count": 9,
   "metadata": {},
   "outputs": [],
   "source": [
    "w = interactive(f, missionaries=widgets.IntSlider(min=0, max=3, step=1, value=0), cannibals=widgets.IntSlider(min=0, max=3, step=1, value=0))"
   ]
  },
  {
   "cell_type": "code",
   "execution_count": 10,
   "metadata": {},
   "outputs": [
    {
     "name": "stdout",
     "output_type": "stream",
     "text": [
      "Test: 0\n",
      "Please use the sliders to choose the number of missionaries and cannibals\n"
     ]
    }
   ],
   "source": [
    "display(w)"
   ]
  },
  {
   "cell_type": "code",
   "execution_count": null,
   "metadata": {},
   "outputs": [],
   "source": []
  },
  {
   "cell_type": "code",
   "execution_count": null,
   "metadata": {},
   "outputs": [],
   "source": []
  }
 ],
 "metadata": {
  "kernelspec": {
   "display_name": "Python 3",
   "language": "python",
   "name": "python3"
  },
  "language_info": {
   "codemirror_mode": {
    "name": "ipython",
    "version": 3
   },
   "file_extension": ".py",
   "mimetype": "text/x-python",
   "name": "python",
   "nbconvert_exporter": "python",
   "pygments_lexer": "ipython3",
   "version": "3.8.3"
  }
 },
 "nbformat": 4,
 "nbformat_minor": 4
}
